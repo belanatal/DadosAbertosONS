{
  "nbformat": 4,
  "nbformat_minor": 0,
  "metadata": {
    "colab": {
      "provenance": [],
      "authorship_tag": "ABX9TyPbrWyPIBUUvo4BK8A2Iyza",
      "include_colab_link": true
    },
    "kernelspec": {
      "name": "python3",
      "display_name": "Python 3"
    },
    "language_info": {
      "name": "python"
    }
  },
  "cells": [
    {
      "cell_type": "markdown",
      "metadata": {
        "id": "view-in-github",
        "colab_type": "text"
      },
      "source": [
        "<a href=\"https://colab.research.google.com/github/belanatal/DadosAbertosONS/blob/main/BalancoSubsistema.ipynb\" target=\"_parent\"><img src=\"https://colab.research.google.com/assets/colab-badge.svg\" alt=\"Open In Colab\"/></a>"
      ]
    },
    {
      "cell_type": "markdown",
      "source": [
        "## Código para baixar os dados abertos de Balanço Energético - ONS\n",
        "Autora: Isabela Fernanda Natal Batista Abreu (chave U4QS)\n",
        "\n",
        "G&E/IMGE/POE\n",
        "\n",
        "Julho/23"
      ],
      "metadata": {
        "id": "I3ojRVwvujsO"
      }
    },
    {
      "cell_type": "code",
      "execution_count": null,
      "metadata": {
        "id": "D_IBBLJFui6Y"
      },
      "outputs": [],
      "source": [
        "# Primeiro bloco: Importação das bibliotecas e módulos\n",
        "# Configuração para não exibir os warnings\n",
        "import warnings\n",
        "warnings.filterwarnings(\"ignore\")\n",
        "#\n",
        "# Importando as bibliotecas pandas, matplotlib (pyplot), seaborn e datetime\n",
        "import pandas as pd\n",
        "import matplotlib.pyplot as plt\n",
        "import seaborn as sns\n",
        "import datetime"
      ]
    },
    {
      "cell_type": "markdown",
      "source": [
        "### Balanço Energético nos Subsistemas\n",
        "Dados: https://dados.ons.org.br/dataset/balanco-energia-subsistema\n",
        "\n",
        "Dicionário de dados: https://ons-dl-prod-opendata.s3.amazonaws.com/dataset/balanco_energia_subsistema_ho/DicionarioDados_Balanco_Energia_Subsistema.pdf\n",
        "\n",
        "> Informações da carga e oferta de energia verificados em periodicidade horária por subsistema. A oferta é representada pelos valores de geração das usinas hidráulicas, térmicas, eólicas e fotovoltaicas, em MWmed. Os dados disponibilizados fazem parte de um processo de consistência recorrente e, portanto, podem ser atualizados após a sua publicação.\n",
        "\n",
        "\n"
      ],
      "metadata": {
        "id": "Hov-3EZOvE_v"
      }
    },
    {
      "cell_type": "code",
      "source": [
        "# Seção I.1: Programa para obtenção do Balanço Energético\n",
        "# Dados por subsistema do Sistema Interligado Nacional, atualizados diariamente.\n",
        "# Arquivos com os dados anuais, com histórico desde 2001\n",
        "ano_zero=2001\n",
        "ano_inicio=ano_zero+1\n",
        "data_fim=datetime.datetime.now() - datetime.timedelta(days=5) #ano vigente, considerando um possível atraso de até 5 dias na publicação, o que é comum na virada de ano\n",
        "ano_fim=data_fim.strftime(\"%Y\")\n",
        "ano_fim=int(ano_fim)\n",
        "print(data_fim)\n",
        "print(ano_fim)"
      ],
      "metadata": {
        "id": "13JikjHjvBEW"
      },
      "execution_count": null,
      "outputs": []
    },
    {
      "cell_type": "code",
      "source": [
        "#Importando os dados da url para o dataframe, começando pelo ano inicial do histórico, até o ano vigente\n",
        "#Conforme dicionário de dados disponibilizado na página de Arquitetura Aberta do ONS, os arquivos .csv estão no formato UTF-8, com delimitador do tipo ponto-e-vírgula\n",
        "balanco=pd.read_csv(\"https://ons-dl-prod-opendata.s3.amazonaws.com/dataset/balanco_energia_subsistema_ho/BALANCO_ENERGIA_SUBSISTEMA_\"+str(ano_zero)+\".csv\",delimiter=\";\",encoding = 'utf8')\n",
        "balanco=pd.DataFrame(balanco)\n",
        "for ano in range (ano_inicio,ano_fim+1):\n",
        "    ano_str=str(ano)\n",
        "    balanco_ano=pd.read_csv(\"https://ons-dl-prod-opendata.s3.amazonaws.com/dataset/balanco_energia_subsistema_ho/BALANCO_ENERGIA_SUBSISTEMA_\"+ano_str+\".csv\",delimiter=\";\",encoding = 'utf8')\n",
        "    balanco_ano=pd.DataFrame(balanco_ano)\n",
        "    balanco=pd.concat([balanco,balanco_ano])\n",
        "print(balanco)"
      ],
      "metadata": {
        "id": "7b6fQMsqvYR1"
      },
      "execution_count": null,
      "outputs": []
    },
    {
      "cell_type": "code",
      "source": [
        "balanco=balanco.drop(columns=['id_subsistema']) # Removendo a coluna id_subsistema (pois já existe uma coluna específica por subsistema)"
      ],
      "metadata": {
        "id": "BeTSq7-G3p9M"
      },
      "execution_count": null,
      "outputs": []
    },
    {
      "cell_type": "code",
      "source": [
        "dict = {'nom_subsistema': 'Subsistema',\n",
        "        'din_instante': 'Data',\n",
        "        'val_gerhidraulica': 'Geracao_Hidro [MWmed]',\n",
        "        'val_gertermica': 'Geracao_Termica [MWmed]',\n",
        "        'val_gereolica': 'Geracao_Eolica [MWmed]',\n",
        "        'val_gersolar': 'Geracao_Solar [MWmed]',\n",
        "        'val_carga': 'Carga [MWmed]',\n",
        "        'val_intercambio': 'Intercambio [MWmed]'}\n",
        "balanco=balanco.rename(columns=dict, inplace=True) # Renomeando os cabeçalhos das colunas\n",
        "balanco['Data'] = pd.to_datetime(balanco['Data']) # Convertendo a coluna Data no tipo DataHora\n",
        "print(balanco)"
      ],
      "metadata": {
        "id": "bi9v2ErO43IE"
      },
      "execution_count": null,
      "outputs": []
    },
    {
      "cell_type": "code",
      "source": [
        "balanco.to_csv(r'C:\\Users\\u4qs\\Downloads\\balanco.csv', index=False)"
      ],
      "metadata": {
        "id": "S-6XmRhr6sH5"
      },
      "execution_count": null,
      "outputs": []
    }
  ]
}